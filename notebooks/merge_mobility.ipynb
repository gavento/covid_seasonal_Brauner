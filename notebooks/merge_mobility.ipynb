{
 "metadata": {
  "language_info": {
   "codemirror_mode": {
    "name": "ipython",
    "version": 3
   },
   "file_extension": ".py",
   "mimetype": "text/x-python",
   "name": "python",
   "nbconvert_exporter": "python",
   "pygments_lexer": "ipython3",
   "version": "3.8.5"
  },
  "orig_nbformat": 4,
  "kernelspec": {
   "name": "python3",
   "display_name": "Python 3.8.5 64-bit ('.venv': venv)"
  },
  "interpreter": {
   "hash": "634f198cfc19abd31cd421fec268246f8164e3308535dc60f48748ff21467167"
  }
 },
 "nbformat": 4,
 "nbformat_minor": 2,
 "cells": [
  {
   "cell_type": "code",
   "execution_count": null,
   "metadata": {},
   "outputs": [],
   "source": [
    "import pandas as pd\n",
    "import numpy as np\n",
    "\n",
    "path = \"../d/Global_Mobility_Report.csv.xz\"\n",
    "df = pd.read_csv(path, parse_dates=[\"date\"])\n",
    "\n",
    "# Filter to national \n",
    "national_row = lambda df : df[df.sub_region_1.isna() & df.sub_region_2.isna() & df.metro_area.isna()]\n",
    "nat = national_row(df)\n",
    "nat = nat.drop(\"parks_percent_change_from_baseline\", axis=1)\n",
    "nat = nat.drop([\"country_region_code\", \"sub_region_1\", \"sub_region_2\", \"metro_area\", \"iso_3166_2_code\", \"census_fips_code\", \"place_id\"], axis=1)\n",
    "\n",
    "subs = {\"Czechia\": 'Czech Republic'}\n",
    "nat[\"country_region\"] = nat[\"country_region\"].replace(subs)\n",
    "nat.rename(columns={\"date\":\"Date\", \"country_region\": \"Region Name\"}, inplace=True)\n",
    "nat[\"Date\"] = pd.to_datetime(nat[\"Date\"], utc=True)\n",
    "nat.set_index([\"Region Name\", \"Date\"])\n",
    "nat"
   ]
  },
  {
   "cell_type": "code",
   "execution_count": null,
   "metadata": {},
   "outputs": [],
   "source": [
    "dfb = pd.read_csv(\"../d/modelBrauner_dataBraunerTE.csv\", parse_dates=[\"Date\"])\n",
    "dfb = dfb.merge(nat, on=[\"Region Name\", \"Date\"], how=\"left\")\n",
    "dfb.fillna(0.0, inplace=True)\n",
    "MOBS = {\n",
    "    \"retail_and_recreation_percent_change_from_baseline\": \"Recre\",\n",
    "    \"grocery_and_pharmacy_percent_change_from_baseline\": \"Groc\",\n",
    "    \"transit_stations_percent_change_from_baseline\": \"Trans\",\n",
    "    \"workplaces_percent_change_from_baseline\": \"Work\",\n",
    "    \"residential_percent_change_from_baseline\": \"Resid\",\n",
    "    }\n",
    "mobility = np.mean([np.float32(dfb[m]) for m in MOBS], axis=0)\n",
    "mobility\n",
    "dfb.drop(MOBS, inplace=True, axis=1)\n",
    "dfb[\"Mobility decrease\"] = mobility / -100.0\n",
    "dfb.to_csv(f\"../d/modelBrauner_dataBraunerTE_mobility_{''.join(MOBS.values())}.csv\", index=False)"
   ]
  },
  {
   "cell_type": "code",
   "execution_count": null,
   "metadata": {},
   "outputs": [],
   "source": []
  }
 ]
}