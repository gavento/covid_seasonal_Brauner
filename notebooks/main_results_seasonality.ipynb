{
 "cells": [
  {
   "cell_type": "markdown",
   "metadata": {},
   "source": [
    "This notebook is used to do a main model run"
   ]
  },
  {
   "cell_type": "code",
   "execution_count": 1,
   "metadata": {},
   "outputs": [
    {
     "name": "stdout",
     "output_type": "stream",
     "text": [
      "Set Theano Environmental Variables for Parallelisation\n"
     ]
    }
   ],
   "source": [
    "from epimodel import EpidemiologicalParameters, preprocess_data\n",
    "from epimodel.pymc3_models.models import ComplexDifferentEffectsWithSeasonalityModel\n",
    "\n",
    "import numpy as np\n",
    "import pymc3 as pm"
   ]
  },
  {
   "cell_type": "code",
   "execution_count": 2,
   "metadata": {},
   "outputs": [
    {
     "name": "stdout",
     "output_type": "stream",
     "text": [
      "Dropping NPI Mask Wearing\n",
      "Dropping NPI Travel Screen/Quarantine\n",
      "Dropping NPI Travel Bans\n",
      "Dropping NPI Public Transport Limited\n",
      "Dropping NPI Internal Movement Limited\n",
      "Dropping NPI Public Information Campaigns\n",
      "Dropping NPI Symptomatic Testing\n",
      "Masking invalid values\n"
     ]
    }
   ],
   "source": [
    "data = preprocess_data('../merged_data/data_final_nov_temperate_north.csv', last_day='2020-05-30', smoothing=1)\n",
    "data.mask_reopenings(print_out = False)"
   ]
  },
  {
   "cell_type": "code",
   "execution_count": 3,
   "metadata": {},
   "outputs": [],
   "source": [
    "ep = EpidemiologicalParameters()"
   ]
  },
  {
   "cell_type": "code",
   "execution_count": 4,
   "metadata": {},
   "outputs": [],
   "source": [
    "bd = ep.get_model_build_dict()"
   ]
  },
  {
   "cell_type": "code",
   "execution_count": 5,
   "metadata": {},
   "outputs": [
    {
     "data": {
      "text/plain": [
       "{'gi_mean_mean': 5.06,\n",
       " 'gi_mean_sd': 0.3265,\n",
       " 'gi_sd_mean': 2.11,\n",
       " 'gi_sd_sd': 0.5,\n",
       " 'deaths_delay_mean_mean': 21.819649695284962,\n",
       " 'deaths_delay_mean_sd': 1.0056755718977664,\n",
       " 'deaths_delay_disp_mean': 14.26238141720708,\n",
       " 'deaths_delay_disp_sd': 5.177442947725441,\n",
       " 'cases_delay_mean_mean': 10.92830227448381,\n",
       " 'cases_delay_mean_sd': 0.9387435298564465,\n",
       " 'cases_delay_disp_mean': 5.406593726647138,\n",
       " 'cases_delay_disp_sd': 0.2689502951493133}"
      ]
     },
     "execution_count": 5,
     "metadata": {},
     "output_type": "execute_result"
    }
   ],
   "source": [
    "bd"
   ]
  },
  {
   "cell_type": "code",
   "execution_count": 6,
   "metadata": {},
   "outputs": [
    {
     "name": "stderr",
     "output_type": "stream",
     "text": [
      "INFO (theano.gof.compilelock): Waiting for existing lock by process '62072' (I am process '62147')\n",
      "INFO (theano.gof.compilelock): To manually release the lock, delete /home/gavento/.theano/compiledir_Linux-5.4--generic-x86_64-with-glibc2.10-x86_64-3.8.5-64/lock_dir\n"
     ]
    }
   ],
   "source": [
    "with ComplexDifferentEffectsWithSeasonalityModel(data) as model:\n",
    "    model.build_model(seasonality_peak_index=-22, **bd)"
   ]
  },
  {
   "cell_type": "code",
   "execution_count": 7,
   "metadata": {},
   "outputs": [
    {
     "name": "stderr",
     "output_type": "stream",
     "text": [
      "Auto-assigning NUTS sampler...\n",
      "Initializing NUTS using jitter+adapt_diag...\n",
      "INFO (theano.gof.compilelock): Waiting for existing lock by process '62072' (I am process '62147')\n",
      "INFO (theano.gof.compilelock): To manually release the lock, delete /home/gavento/.theano/compiledir_Linux-5.4--generic-x86_64-with-glibc2.10-x86_64-3.8.5-64/lock_dir\n",
      "INFO (theano.gof.compilelock): Waiting for existing lock by process '62072' (I am process '62147')\n",
      "INFO (theano.gof.compilelock): To manually release the lock, delete /home/gavento/.theano/compiledir_Linux-5.4--generic-x86_64-with-glibc2.10-x86_64-3.8.5-64/lock_dir\n",
      "Multiprocess sampling (4 chains in 4 jobs)\n",
      "NUTS: [DeathsDelayDisp, DeathsDelayMean, InitialSizeDeaths_log, CasesDelayDisp, CasesDelayMean, InitialSizeCases_log, PsiDeaths, PsiCases, GrowthDeathsNoise, GrowthCasesNoise, GrowthNoiseScale, GI_sd, GI_mean, RegionR_noise, HyperRVar, AllCMAlphaNoise, CMAlphaScales, Seasonality, CM_Alpha]\n"
     ]
    },
    {
     "data": {
      "text/html": [
       "\n",
       "    <div>\n",
       "        <style>\n",
       "            /* Turns off some styling */\n",
       "            progress {\n",
       "                /* gets rid of default border in Firefox and Opera. */\n",
       "                border: none;\n",
       "                /* Needs to be in here for Safari polyfill so background images work as expected. */\n",
       "                background-size: auto;\n",
       "            }\n",
       "            .progress-bar-interrupted, .progress-bar-interrupted::-webkit-progress-bar {\n",
       "                background: #F44336;\n",
       "            }\n",
       "        </style>\n",
       "      <progress value='10000' class='' max='10000' style='width:300px; height:20px; vertical-align: middle;'></progress>\n",
       "      100.00% [10000/10000 1:55:50<00:00 Sampling 4 chains, 0 divergences]\n",
       "    </div>\n",
       "    "
      ],
      "text/plain": [
       "<IPython.core.display.HTML object>"
      ]
     },
     "metadata": {},
     "output_type": "display_data"
    },
    {
     "name": "stderr",
     "output_type": "stream",
     "text": [
      "Sampling 4 chains for 500 tune and 2_000 draw iterations (2_000 + 8_000 draws total) took 6991 seconds.\n",
      "The number of effective samples is smaller than 10% for some parameters.\n"
     ]
    }
   ],
   "source": [
    "with model:\n",
    "    model.trace = pm.sample(2000, tune=500, cores=4, chains=4, max_treedepth=12, target_accept=0.96)"
   ]
  },
  {
   "cell_type": "code",
   "execution_count": 8,
   "metadata": {},
   "outputs": [],
   "source": [
    "# save results in a pickle file\n",
    "import pickle\n",
    "pickle.dump(model.trace, open('trace_final_nov-seasonality.pkl', 'wb'))"
   ]
  },
  {
   "cell_type": "code",
   "execution_count": null,
   "metadata": {},
   "outputs": [],
   "source": []
  }
 ],
 "metadata": {
  "kernelspec": {
   "display_name": "Python 3.8.5 64-bit ('.venv')",
   "language": "python",
   "name": "python38564bitvenv83defed465f04f5bbd38bed6d96d933b"
  },
  "language_info": {
   "codemirror_mode": {
    "name": "ipython",
    "version": 3
   },
   "file_extension": ".py",
   "mimetype": "text/x-python",
   "name": "python",
   "nbconvert_exporter": "python",
   "pygments_lexer": "ipython3",
   "version": "3.8.5"
  }
 },
 "nbformat": 4,
 "nbformat_minor": 4
}